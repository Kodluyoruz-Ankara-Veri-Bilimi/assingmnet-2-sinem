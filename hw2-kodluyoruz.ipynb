{
 "cells": [
  {
   "cell_type": "code",
   "execution_count": 340,
   "metadata": {},
   "outputs": [],
   "source": [
    "os.getcwd()\n",
    "os.chdir(\"C:\\\\Users\\\\sinem\\\\Desktop\\\\kodluyoruz\")\n",
    "\n",
    "import pandas as pd\n",
    "\n",
    "import seaborn as sns\n",
    "\n",
    "import os\n",
    "\n",
    "import numpy as np\n",
    "\n",
    "import matplotlib.pyplot as plt\n"
   ]
  },
  {
   "cell_type": "code",
   "execution_count": 391,
   "metadata": {},
   "outputs": [
    {
     "name": "stdout",
     "output_type": "stream",
     "text": [
      "  bad   loan   mortdue     value   reason  job   yoj  derog  delinq   clage  \\\n",
      "0   0  81200   18834.0  108355.0  HomeImp  NaN  28.0    0.0     0.0  139.14   \n",
      "1   0  12600  103960.0  127384.0  DebtCon  NaN   2.0    0.0     0.0  129.02   \n",
      "2   0  18000   46865.0   61266.0  DebtCon  NaN   5.0    0.0     0.0  102.59   \n",
      "3   0  10300   57676.0   71027.0  DebtCon  NaN  19.0    0.0     0.0  157.52   \n",
      "4   0   9400   56508.0   78358.0  DebtCon  NaN  17.0    0.0     0.0  141.93   \n",
      "5   0  17200   39316.0   66978.0  DebtCon  NaN   4.0    0.0     0.0   99.99   \n",
      "\n",
      "   ninq  clno  debtinc  \n",
      "0   0.0  14.0   34.042  \n",
      "1   0.0  25.0   34.479  \n",
      "2   2.0   9.0   26.354  \n",
      "3   1.0  11.0   33.992  \n",
      "4   0.0  11.0   32.327  \n",
      "5   1.0  10.0   26.437  \n",
      "               loan        mortdue          value          yoj        derog  \\\n",
      "count   3576.000000    3262.000000    3512.000000  3264.000000  3149.000000   \n",
      "mean   18529.697987   74013.907992  101076.922759     8.832644     0.261670   \n",
      "std    11262.834060   44016.833772   54865.275351     7.568046     0.865178   \n",
      "min     1100.000000    2619.000000    8800.000000     0.000000     0.000000   \n",
      "25%    11000.000000   46700.250000   65753.000000     3.000000     0.000000   \n",
      "50%    16200.000000   65858.000000   89183.000000     7.000000     0.000000   \n",
      "75%    23100.000000   91717.000000  118928.250000    13.000000     0.000000   \n",
      "max    89900.000000  399550.000000  850000.000000    41.000000    10.000000   \n",
      "\n",
      "            delinq        clage         ninq         clno      debtinc  \n",
      "count  3225.000000  3397.000000  3273.000000  3443.000000  2809.000000  \n",
      "mean      0.432558   179.832529     1.186373    21.507116    33.831737  \n",
      "std       1.099230    87.066198     1.728723    10.167490     9.061837  \n",
      "min       0.000000     0.490000     0.000000     0.000000     0.720000  \n",
      "25%       0.000000   115.600000     0.000000    15.000000    29.140000  \n",
      "50%       0.000000   173.640000     1.000000    20.000000    34.747000  \n",
      "75%       0.000000   230.710000     2.000000    26.000000    38.940000  \n",
      "max      15.000000  1168.230000    17.000000    71.000000   203.312000  \n",
      "bad        0\n",
      "loan       0\n",
      "mortdue    0\n",
      "value      0\n",
      "reason     0\n",
      "job        0\n",
      "yoj        0\n",
      "derog      0\n",
      "delinq     0\n",
      "clage      0\n",
      "ninq       0\n",
      "clno       0\n",
      "debtinc    0\n",
      "dtype: int64\n",
      "<class 'pandas.core.frame.DataFrame'>\n",
      "Int64Index: 2115 entries, 153 to 3549\n",
      "Data columns (total 13 columns):\n",
      " #   Column   Non-Null Count  Dtype   \n",
      "---  ------   --------------  -----   \n",
      " 0   bad      2115 non-null   category\n",
      " 1   loan     2115 non-null   int64   \n",
      " 2   mortdue  2115 non-null   int64   \n",
      " 3   value    2115 non-null   float64 \n",
      " 4   reason   2115 non-null   object  \n",
      " 5   job      2115 non-null   object  \n",
      " 6   yoj      2115 non-null   float64 \n",
      " 7   derog    2115 non-null   float64 \n",
      " 8   delinq   2115 non-null   float64 \n",
      " 9   clage    2115 non-null   float64 \n",
      " 10  ninq     2115 non-null   float64 \n",
      " 11  clno     2115 non-null   float64 \n",
      " 12  debtinc  2115 non-null   float64 \n",
      "dtypes: category(1), float64(8), int64(2), object(2)\n",
      "memory usage: 217.0+ KB\n",
      "None\n"
     ]
    }
   ],
   "source": [
    "\n",
    "class Information():\n",
    "\n",
    "    def __init__(self, df):\n",
    "        self.df = df\n",
    "\n",
    "    def Describer(self):\n",
    "        print(df.describe())\n",
    "        \n",
    "    def LookHead(self):\n",
    "        print(df.head(6))\n",
    "     \n",
    "    def preprocess(self):\n",
    "        missing_values = [\"n/a\", \"na\", \"--\", \"nan\"]\n",
    "        df = pd.read_csv(\"data.csv\", na_values = missing_values)\n",
    "        df['bad'] = df.bad.astype('category')\n",
    "        df.dropna(inplace=True)\n",
    "        print (df.isnull().sum())\n",
    "        print(df.info())        \n",
    "     \n",
    "df = pd.read_csv('data.csv')\n",
    "df['bad'] = df.bad.astype('category')\n",
    "\n",
    "a = Information(df)\n",
    "a.LookHead()\n",
    "a.Describer()\n",
    "a.preprocess()\n",
    "        \n",
    "\n",
    "\n",
    "\n",
    "    "
   ]
  },
  {
   "cell_type": "code",
   "execution_count": 361,
   "metadata": {},
   "outputs": [],
   "source": [
    "import seaborn as sns \n",
    "import numpy as np  \n",
    "import pandas as pd  \n",
    "import matplotlib.pyplot as plt \n",
    "\n",
    "class Visualization:\n",
    "\n",
    "    def __init__(self, df):\n",
    "\n",
    "        self.df = df\n",
    "\n",
    "\n",
    "    def BoxPlot(self):\n",
    "        import seaborn as sns\n",
    "        import matplotlib.pyplot as plt\n",
    "        df.boxplot()\n",
    "      \n",
    "\n",
    "df = pd.read_csv('data.csv') \n",
    "b=Visualization(df)\n"
   ]
  },
  {
   "cell_type": "code",
   "execution_count": null,
   "metadata": {},
   "outputs": [],
   "source": []
  },
  {
   "cell_type": "code",
   "execution_count": 362,
   "metadata": {},
   "outputs": [
    {
     "data": {
      "image/png": "[encoded data removed]",
      "text/plain": [
       "<Figure size 432x288 with 1 Axes>"
      ]
     },
     "metadata": {},
     "output_type": "display_data"
    }
   ],
   "source": [
    "b.BoxPlot()"
   ]
  },
  {
   "cell_type": "code",
   "execution_count": 378,
   "metadata": {
    "scrolled": true
   },
   "outputs": [
    {
     "data": {
      "image/png": "[encoded data removed]",
      "text/plain": [
       "<Figure size 504x504 with 2 Axes>"
      ]
     },
     "metadata": {},
     "output_type": "display_data"
    }
   ],
   "source": [
    "df2=df.copy()\n",
    "df2 = df2.drop(columns=['bad' , 'job', 'reason'])    \n",
    "fig,ax = plt.subplots(figsize=(7, 7))\n",
    "sns.heatmap(df2.corr(), ax=ax, annot=True, linewidths=0.05, fmt= '.2f')\n",
    "plt.show()\n",
    "#Value and mortdue have strong postive realtionship\n",
    "#value and loan have weak positive relationship."
   ]
  },
  {
   "cell_type": "code",
   "execution_count": 315,
   "metadata": {},
   "outputs": [
    {
     "data": {
      "text/plain": [
       "<matplotlib.axes._subplots.AxesSubplot at 0x224a31de408>"
      ]
     },
     "execution_count": 315,
     "metadata": {},
     "output_type": "execute_result"
    },
    {
     "data": {
      "image/png": "[encoded data removed]",
      "text/plain": [
       "<Figure size 432x288 with 1 Axes>"
      ]
     },
     "metadata": {},
     "output_type": "display_data"
    }
   ],
   "source": [
    "sns.countplot(df.bad)"
   ]
  },
  {
   "cell_type": "code",
   "execution_count": 323,
   "metadata": {},
   "outputs": [
    {
     "data": {
      "text/html": [
       "<div>\n",
       "<style scoped>\n",
       "    .dataframe tbody tr th:only-of-type {\n",
       "        vertical-align: middle;\n",
       "    }\n",
       "\n",
       "    .dataframe tbody tr th {\n",
       "        vertical-align: top;\n",
       "    }\n",
       "\n",
       "    .dataframe thead th {\n",
       "        text-align: right;\n",
       "    }\n",
       "</style>\n",
       "<table border=\"1\" class=\"dataframe\">\n",
       "  <thead>\n",
       "    <tr style=\"text-align: right;\">\n",
       "      <th>bad</th>\n",
       "      <th>0</th>\n",
       "      <th>1</th>\n",
       "    </tr>\n",
       "    <tr>\n",
       "      <th>reason</th>\n",
       "      <th></th>\n",
       "      <th></th>\n",
       "    </tr>\n",
       "  </thead>\n",
       "  <tbody>\n",
       "    <tr>\n",
       "      <th>DebtCon</th>\n",
       "      <td>1931</td>\n",
       "      <td>440</td>\n",
       "    </tr>\n",
       "    <tr>\n",
       "      <th>HomeImp</th>\n",
       "      <td>814</td>\n",
       "      <td>244</td>\n",
       "    </tr>\n",
       "  </tbody>\n",
       "</table>\n",
       "</div>"
      ],
      "text/plain": [
       "bad         0    1\n",
       "reason            \n",
       "DebtCon  1931  440\n",
       "HomeImp   814  244"
      ]
     },
     "execution_count": 323,
     "metadata": {},
     "output_type": "execute_result"
    }
   ],
   "source": [
    "pd.crosstab(index=df[\"reason\"], columns=df[\"bad\"])\n",
    "\n",
    "#according to this; people's almost 1/4 did not pay back their credit.\n"
   ]
  },
  {
   "cell_type": "code",
   "execution_count": 379,
   "metadata": {},
   "outputs": [
    {
     "data": {
      "text/html": [
       "<div>\n",
       "<style scoped>\n",
       "    .dataframe tbody tr th:only-of-type {\n",
       "        vertical-align: middle;\n",
       "    }\n",
       "\n",
       "    .dataframe tbody tr th {\n",
       "        vertical-align: top;\n",
       "    }\n",
       "\n",
       "    .dataframe thead th {\n",
       "        text-align: right;\n",
       "    }\n",
       "</style>\n",
       "<table border=\"1\" class=\"dataframe\">\n",
       "  <thead>\n",
       "    <tr style=\"text-align: right;\">\n",
       "      <th>bad</th>\n",
       "      <th>0</th>\n",
       "      <th>1</th>\n",
       "    </tr>\n",
       "    <tr>\n",
       "      <th>derog</th>\n",
       "      <th></th>\n",
       "      <th></th>\n",
       "    </tr>\n",
       "  </thead>\n",
       "  <tbody>\n",
       "    <tr>\n",
       "      <th>0.0</th>\n",
       "      <td>2254</td>\n",
       "      <td>452</td>\n",
       "    </tr>\n",
       "    <tr>\n",
       "      <th>1.0</th>\n",
       "      <td>162</td>\n",
       "      <td>103</td>\n",
       "    </tr>\n",
       "    <tr>\n",
       "      <th>2.0</th>\n",
       "      <td>49</td>\n",
       "      <td>49</td>\n",
       "    </tr>\n",
       "    <tr>\n",
       "      <th>3.0</th>\n",
       "      <td>10</td>\n",
       "      <td>25</td>\n",
       "    </tr>\n",
       "    <tr>\n",
       "      <th>4.0</th>\n",
       "      <td>4</td>\n",
       "      <td>10</td>\n",
       "    </tr>\n",
       "    <tr>\n",
       "      <th>5.0</th>\n",
       "      <td>4</td>\n",
       "      <td>4</td>\n",
       "    </tr>\n",
       "    <tr>\n",
       "      <th>6.0</th>\n",
       "      <td>4</td>\n",
       "      <td>6</td>\n",
       "    </tr>\n",
       "    <tr>\n",
       "      <th>7.0</th>\n",
       "      <td>0</td>\n",
       "      <td>7</td>\n",
       "    </tr>\n",
       "    <tr>\n",
       "      <th>8.0</th>\n",
       "      <td>0</td>\n",
       "      <td>3</td>\n",
       "    </tr>\n",
       "    <tr>\n",
       "      <th>9.0</th>\n",
       "      <td>0</td>\n",
       "      <td>1</td>\n",
       "    </tr>\n",
       "    <tr>\n",
       "      <th>10.0</th>\n",
       "      <td>0</td>\n",
       "      <td>2</td>\n",
       "    </tr>\n",
       "  </tbody>\n",
       "</table>\n",
       "</div>"
      ],
      "text/plain": [
       "bad       0    1\n",
       "derog           \n",
       "0.0    2254  452\n",
       "1.0     162  103\n",
       "2.0      49   49\n",
       "3.0      10   25\n",
       "4.0       4   10\n",
       "5.0       4    4\n",
       "6.0       4    6\n",
       "7.0       0    7\n",
       "8.0       0    3\n",
       "9.0       0    1\n",
       "10.0      0    2"
      ]
     },
     "execution_count": 379,
     "metadata": {},
     "output_type": "execute_result"
    }
   ],
   "source": [
    "pd.crosstab(index=df[\"derog\"], columns=df[\"bad\"])"
   ]
  },
  {
   "cell_type": "code",
   "execution_count": 342,
   "metadata": {},
   "outputs": [],
   "source": [
    "from scipy import stats\n",
    "import scipy.stats as stats\n",
    "from scipy.stats import shapiro\n",
    "import statsmodels.api as sm\n",
    "import pylab\n",
    "stats.describe(df.loan)\n",
    "\n"
   ]
  },
  {
   "cell_type": "code",
   "execution_count": 387,
   "metadata": {},
   "outputs": [
    {
     "data": {
      "text/plain": [
       "(0.8493258953094482, 0.0)"
      ]
     },
     "execution_count": 387,
     "metadata": {},
     "output_type": "execute_result"
    }
   ],
   "source": [
    "shapiro(df['loan'])\n",
    "\n",
    "#this varibale are not normally distributed"
   ]
  },
  {
   "cell_type": "code",
   "execution_count": 345,
   "metadata": {},
   "outputs": [
    {
     "data": {
      "text/plain": [
       "LeveneResult(statistic=27.166309046206063, pvalue=1.960277648170479e-07)"
      ]
     },
     "execution_count": 345,
     "metadata": {},
     "output_type": "execute_result"
    }
   ],
   "source": [
    "\n",
    "\n",
    "import scipy as cipy \n",
    "stats.levene(df.mortdue,df.value)\n",
    "#H0=equal variances\n",
    "#HA= not equal variances\n",
    "\n",
    "#p-value<0.05 we'll reject null hypothesis. Their variances are not equal."
   ]
  },
  {
   "cell_type": "code",
   "execution_count": 344,
   "metadata": {},
   "outputs": [
    {
     "data": {
      "text/plain": [
       "(0.8673681237221049, 0.0)"
      ]
     },
     "execution_count": 344,
     "metadata": {},
     "output_type": "execute_result"
    }
   ],
   "source": [
    "#Examine  whether the strong relationship between value and mortdue are valid or not\n",
    "\n",
    "from scipy.stats import pearsonr \n",
    " \n",
    "# Convert dataframe into series \n",
    "list1 = df['value'] \n",
    "list2 = df['mortdue'] \n",
    "# Apply the pearsonr() \n",
    "pearsonr(list1, list2) \n",
    "\n",
    "#The pearsons correlation coefficient can be used to evaluate relationship between more than two variables.\n",
    "#We can see that two variables are positively correlated and the correaltion is 0.86\n",
    "\n",
    "#H0: correlation =0\n",
    "#HA: correlation is not equal to zero\n",
    "\n",
    "#p-value(0.0)<0.05 therefor we reject null hyphothesis."
   ]
  },
  {
   "cell_type": "code",
   "execution_count": null,
   "metadata": {},
   "outputs": [],
   "source": []
  }
 ],
 "metadata": {
  "kernelspec": {
   "display_name": "Python 3",
   "language": "python",
   "name": "python3"
  },
  "language_info": {
   "codemirror_mode": {
    "name": "ipython",
    "version": 3
   },
   "file_extension": ".py",
   "mimetype": "text/x-python",
   "name": "python",
   "nbconvert_exporter": "python",
   "pygments_lexer": "ipython3",
   "version": "3.7.6"
  }
 },
 "nbformat": 4,
 "nbformat_minor": 4
}
