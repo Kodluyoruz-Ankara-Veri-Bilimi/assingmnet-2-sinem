{
 "cells": [
  {
   "cell_type": "code",
   "execution_count": 180,
   "metadata": {},
   "outputs": [],
   "source": [
    "os.getcwd()\n",
    "os.chdir(\"C:\\\\Users\\\\sinem\\\\Desktop\")\n",
    "\n",
    "import pandas as pd\n",
    "\n",
    "import seaborn as sns\n",
    "\n",
    "import os\n",
    "\n",
    "import numpy as np\n",
    "\n",
    "import matplotlib.pyplot as plt\n"
   ]
  },
  {
   "cell_type": "code",
   "execution_count": 181,
   "metadata": {
    "scrolled": true
   },
   "outputs": [
    {
     "name": "stdout",
     "output_type": "stream",
     "text": [
      "  bad   loan   mortdue     value   reason  job   yoj  derog  delinq   clage  \\\n",
      "0   0  81200   18834.0  108355.0  HomeImp  NaN  28.0    0.0     0.0  139.14   \n",
      "1   0  12600  103960.0  127384.0  DebtCon  NaN   2.0    0.0     0.0  129.02   \n",
      "2   0  18000   46865.0   61266.0  DebtCon  NaN   5.0    0.0     0.0  102.59   \n",
      "3   0  10300   57676.0   71027.0  DebtCon  NaN  19.0    0.0     0.0  157.52   \n",
      "4   0   9400   56508.0   78358.0  DebtCon  NaN  17.0    0.0     0.0  141.93   \n",
      "5   0  17200   39316.0   66978.0  DebtCon  NaN   4.0    0.0     0.0   99.99   \n",
      "\n",
      "   ninq  clno  debtinc  \n",
      "0   0.0  14.0   34.042  \n",
      "1   0.0  25.0   34.479  \n",
      "2   2.0   9.0   26.354  \n",
      "3   1.0  11.0   33.992  \n",
      "4   0.0  11.0   32.327  \n",
      "5   1.0  10.0   26.437  \n",
      "          count           mean           std      min       25%        50%  \\\n",
      "loan     3576.0   18529.697987  11262.834060  1100.00  11000.00  16200.000   \n",
      "mortdue  3262.0   74013.907992  44016.833772  2619.00  46700.25  65858.000   \n",
      "value    3512.0  101076.922759  54865.275351  8800.00  65753.00  89183.000   \n",
      "yoj      3264.0       8.832644      7.568046     0.00      3.00      7.000   \n",
      "derog    3149.0       0.261670      0.865178     0.00      0.00      0.000   \n",
      "delinq   3225.0       0.432558      1.099230     0.00      0.00      0.000   \n",
      "clage    3397.0     179.832529     87.066198     0.49    115.60    173.640   \n",
      "ninq     3273.0       1.186373      1.728723     0.00      0.00      1.000   \n",
      "clno     3443.0      21.507116     10.167490     0.00     15.00     20.000   \n",
      "debtinc  2809.0      33.831737      9.061837     0.72     29.14     34.747   \n",
      "\n",
      "               75%         max  \n",
      "loan      23100.00   89900.000  \n",
      "mortdue   91717.00  399550.000  \n",
      "value    118928.25  850000.000  \n",
      "yoj          13.00      41.000  \n",
      "derog         0.00      10.000  \n",
      "delinq        0.00      15.000  \n",
      "clage       230.71    1168.230  \n",
      "ninq          2.00      17.000  \n",
      "clno         26.00      71.000  \n",
      "debtinc      38.94     203.312  \n",
      "bad        0\n",
      "loan       0\n",
      "mortdue    0\n",
      "value      0\n",
      "reason     0\n",
      "job        0\n",
      "yoj        0\n",
      "derog      0\n",
      "delinq     0\n",
      "clage      0\n",
      "ninq       0\n",
      "clno       0\n",
      "debtinc    0\n",
      "dtype: int64\n",
      "<class 'pandas.core.frame.DataFrame'>\n",
      "Int64Index: 2018 entries, 153 to 3549\n",
      "Data columns (total 13 columns):\n",
      " #   Column   Non-Null Count  Dtype   \n",
      "---  ------   --------------  -----   \n",
      " 0   bad      2018 non-null   category\n",
      " 1   loan     2018 non-null   int64   \n",
      " 2   mortdue  2018 non-null   float64 \n",
      " 3   value    2018 non-null   float64 \n",
      " 4   reason   2018 non-null   object  \n",
      " 5   job      2018 non-null   object  \n",
      " 6   yoj      2018 non-null   float64 \n",
      " 7   derog    2018 non-null   float64 \n",
      " 8   delinq   2018 non-null   float64 \n",
      " 9   clage    2018 non-null   float64 \n",
      " 10  ninq     2018 non-null   float64 \n",
      " 11  clno     2018 non-null   float64 \n",
      " 12  debtinc  2018 non-null   float64 \n",
      "dtypes: category(1), float64(9), int64(1), object(2)\n",
      "memory usage: 207.0+ KB\n",
      "None\n"
     ]
    }
   ],
   "source": [
    "\n",
    "class Information():\n",
    "\n",
    "    def __init__(self, df):\n",
    "        self.df = df\n",
    "\n",
    "    def Describer(self):\n",
    "        print(df.describe().T)\n",
    "        \n",
    "    def LookHead(self):\n",
    "        print(df.head(6))\n",
    "     \n",
    "    def preprocess(self):\n",
    "        missing_values = [\"n/a\", \"na\", \"--\", \"nan\"]\n",
    "        df = pd.read_csv(\"df.csv\", na_values = missing_values)\n",
    "        df['bad'] = df.bad.astype('category')\n",
    "        df.dropna(inplace=True)\n",
    "        print (df.isnull().sum())\n",
    "        print(df.info())        \n",
    "     \n",
    "df = pd.read_csv('df.csv')\n",
    "df['bad'] = df.bad.astype('category')\n",
    "\n",
    "a = Information(df)\n",
    "a.LookHead()\n",
    "a.Describer()\n",
    "a.preprocess()\n",
    "        \n",
    "\n",
    "\n",
    "\n",
    "    "
   ]
  },
  {
   "cell_type": "code",
   "execution_count": 111,
   "metadata": {},
   "outputs": [],
   "source": [
    "import seaborn as sns \n",
    "import numpy as np  \n",
    "import pandas as pd  \n",
    "import matplotlib.pyplot as plt \n",
    "\n",
    "class Visualization:\n",
    "\n",
    "    def __init__(self, df):\n",
    "\n",
    "        self.df = df\n",
    "\n",
    "\n",
    "    def BoxPlot(self):\n",
    "        import seaborn as sns\n",
    "        import matplotlib.pyplot as plt\n",
    "        df.boxplot()\n",
    "      \n",
    "\n",
    "df = pd.read_csv('df.csv') \n",
    "b=Visualization(df)\n"
   ]
  },
  {
   "cell_type": "code",
   "execution_count": null,
   "metadata": {},
   "outputs": [],
   "source": []
  },
  {
   "cell_type": "code",
   "execution_count": 362,
   "metadata": {},
   "outputs": [
    {
     "data": {
      "image/png": "[encoded data removed]",
      "text/plain": [
       "<Figure size 432x288 with 1 Axes>"
      ]
     },
     "metadata": {},
     "output_type": "display_data"
    }
   ],
   "source": [
    "b.BoxPlot()"
   ]
  },
  {
   "cell_type": "code",
   "execution_count": 112,
   "metadata": {
    "scrolled": true
   },
   "outputs": [
    {
     "data": {
      "image/png": "[encoded data removed]",
      "text/plain": [
       "<Figure size 504x504 with 2 Axes>"
      ]
     },
     "metadata": {
      "needs_background": "light"
     },
     "output_type": "display_data"
    }
   ],
   "source": [
    "df2=df.copy()\n",
    "df2 = df2.drop(columns=['bad' , 'job', 'reason'])    \n",
    "fig,ax = plt.subplots(figsize=(7, 7))\n",
    "sns.heatmap(df2.corr(), ax=ax, annot=True, linewidths=0.05, fmt= '.2f')\n",
    "plt.show()\n",
    "#Value and mortdue have strong postive realtionship\n",
    "#value and loan have weak positive relationship."
   ]
  },
  {
   "cell_type": "code",
   "execution_count": 315,
   "metadata": {},
   "outputs": [
    {
     "data": {
      "text/plain": [
       "<matplotlib.axes._subplots.AxesSubplot at 0x224a31de408>"
      ]
     },
     "execution_count": 315,
     "metadata": {},
     "output_type": "execute_result"
    },
    {
     "data": {
      "image/png": "[encoded data removed]",
      "text/plain": [
       "<Figure size 432x288 with 1 Axes>"
      ]
     },
     "metadata": {},
     "output_type": "display_data"
    }
   ],
   "source": [
    "sns.countplot(df.bad)"
   ]
  },
  {
   "cell_type": "code",
   "execution_count": 323,
   "metadata": {},
   "outputs": [
    {
     "data": {
      "text/html": [
       "<div>\n",
       "<style scoped>\n",
       "    .dataframe tbody tr th:only-of-type {\n",
       "        vertical-align: middle;\n",
       "    }\n",
       "\n",
       "    .dataframe tbody tr th {\n",
       "        vertical-align: top;\n",
       "    }\n",
       "\n",
       "    .dataframe thead th {\n",
       "        text-align: right;\n",
       "    }\n",
       "</style>\n",
       "<table border=\"1\" class=\"dataframe\">\n",
       "  <thead>\n",
       "    <tr style=\"text-align: right;\">\n",
       "      <th>bad</th>\n",
       "      <th>0</th>\n",
       "      <th>1</th>\n",
       "    </tr>\n",
       "    <tr>\n",
       "      <th>reason</th>\n",
       "      <th></th>\n",
       "      <th></th>\n",
       "    </tr>\n",
       "  </thead>\n",
       "  <tbody>\n",
       "    <tr>\n",
       "      <th>DebtCon</th>\n",
       "      <td>1931</td>\n",
       "      <td>440</td>\n",
       "    </tr>\n",
       "    <tr>\n",
       "      <th>HomeImp</th>\n",
       "      <td>814</td>\n",
       "      <td>244</td>\n",
       "    </tr>\n",
       "  </tbody>\n",
       "</table>\n",
       "</div>"
      ],
      "text/plain": [
       "bad         0    1\n",
       "reason            \n",
       "DebtCon  1931  440\n",
       "HomeImp   814  244"
      ]
     },
     "execution_count": 323,
     "metadata": {},
     "output_type": "execute_result"
    }
   ],
   "source": [
    "pd.crosstab(index=df[\"reason\"], columns=df[\"bad\"])\n",
    "\n",
    "#according to this; people's almost 1/4 did not pay back their credit.\n"
   ]
  },
  {
   "cell_type": "code",
   "execution_count": 379,
   "metadata": {},
   "outputs": [
    {
     "data": {
      "text/html": [
       "<div>\n",
       "<style scoped>\n",
       "    .dataframe tbody tr th:only-of-type {\n",
       "        vertical-align: middle;\n",
       "    }\n",
       "\n",
       "    .dataframe tbody tr th {\n",
       "        vertical-align: top;\n",
       "    }\n",
       "\n",
       "    .dataframe thead th {\n",
       "        text-align: right;\n",
       "    }\n",
       "</style>\n",
       "<table border=\"1\" class=\"dataframe\">\n",
       "  <thead>\n",
       "    <tr style=\"text-align: right;\">\n",
       "      <th>bad</th>\n",
       "      <th>0</th>\n",
       "      <th>1</th>\n",
       "    </tr>\n",
       "    <tr>\n",
       "      <th>derog</th>\n",
       "      <th></th>\n",
       "      <th></th>\n",
       "    </tr>\n",
       "  </thead>\n",
       "  <tbody>\n",
       "    <tr>\n",
       "      <th>0.0</th>\n",
       "      <td>2254</td>\n",
       "      <td>452</td>\n",
       "    </tr>\n",
       "    <tr>\n",
       "      <th>1.0</th>\n",
       "      <td>162</td>\n",
       "      <td>103</td>\n",
       "    </tr>\n",
       "    <tr>\n",
       "      <th>2.0</th>\n",
       "      <td>49</td>\n",
       "      <td>49</td>\n",
       "    </tr>\n",
       "    <tr>\n",
       "      <th>3.0</th>\n",
       "      <td>10</td>\n",
       "      <td>25</td>\n",
       "    </tr>\n",
       "    <tr>\n",
       "      <th>4.0</th>\n",
       "      <td>4</td>\n",
       "      <td>10</td>\n",
       "    </tr>\n",
       "    <tr>\n",
       "      <th>5.0</th>\n",
       "      <td>4</td>\n",
       "      <td>4</td>\n",
       "    </tr>\n",
       "    <tr>\n",
       "      <th>6.0</th>\n",
       "      <td>4</td>\n",
       "      <td>6</td>\n",
       "    </tr>\n",
       "    <tr>\n",
       "      <th>7.0</th>\n",
       "      <td>0</td>\n",
       "      <td>7</td>\n",
       "    </tr>\n",
       "    <tr>\n",
       "      <th>8.0</th>\n",
       "      <td>0</td>\n",
       "      <td>3</td>\n",
       "    </tr>\n",
       "    <tr>\n",
       "      <th>9.0</th>\n",
       "      <td>0</td>\n",
       "      <td>1</td>\n",
       "    </tr>\n",
       "    <tr>\n",
       "      <th>10.0</th>\n",
       "      <td>0</td>\n",
       "      <td>2</td>\n",
       "    </tr>\n",
       "  </tbody>\n",
       "</table>\n",
       "</div>"
      ],
      "text/plain": [
       "bad       0    1\n",
       "derog           \n",
       "0.0    2254  452\n",
       "1.0     162  103\n",
       "2.0      49   49\n",
       "3.0      10   25\n",
       "4.0       4   10\n",
       "5.0       4    4\n",
       "6.0       4    6\n",
       "7.0       0    7\n",
       "8.0       0    3\n",
       "9.0       0    1\n",
       "10.0      0    2"
      ]
     },
     "execution_count": 379,
     "metadata": {},
     "output_type": "execute_result"
    }
   ],
   "source": [
    "pd.crosstab(index=df[\"derog\"], columns=df[\"bad\"])"
   ]
  },
  {
   "cell_type": "code",
   "execution_count": 182,
   "metadata": {},
   "outputs": [
    {
     "data": {
      "text/plain": [
       "DescribeResult(nobs=3576, minmax=(1100, 89900), mean=18529.697986577183, variance=126851431.06960154, skewness=2.049604648222838, kurtosis=7.101453299904799)"
      ]
     },
     "execution_count": 182,
     "metadata": {},
     "output_type": "execute_result"
    }
   ],
   "source": [
    "from scipy import stats\n",
    "import scipy.stats as stats\n",
    "from scipy.stats import shapiro\n",
    "import statsmodels.api as sm\n",
    "import pylab\n",
    "stats.describe(df.loan)\n",
    "\n"
   ]
  },
  {
   "cell_type": "code",
   "execution_count": 387,
   "metadata": {},
   "outputs": [
    {
     "data": {
      "text/plain": [
       "(0.8493258953094482, 0.0)"
      ]
     },
     "execution_count": 387,
     "metadata": {},
     "output_type": "execute_result"
    }
   ],
   "source": [
    "shapiro(df['loan'])\n",
    "\n",
    "#this varibale are not normally distributed"
   ]
  },
  {
   "cell_type": "code",
   "execution_count": 345,
   "metadata": {},
   "outputs": [
    {
     "data": {
      "text/plain": [
       "LeveneResult(statistic=27.166309046206063, pvalue=1.960277648170479e-07)"
      ]
     },
     "execution_count": 345,
     "metadata": {},
     "output_type": "execute_result"
    }
   ],
   "source": [
    "import scipy as cipy \n",
    "stats.levene(df.mortdue,df.value)\n",
    "#H0=equal variances\n",
    "#HA= not equal variances\n",
    "\n",
    "#p-value<0.05 we'll reject null hypothesis. Their variances are not equal."
   ]
  },
  {
   "cell_type": "code",
   "execution_count": 344,
   "metadata": {},
   "outputs": [
    {
     "data": {
      "text/plain": [
       "(0.8673681237221049, 0.0)"
      ]
     },
     "execution_count": 344,
     "metadata": {},
     "output_type": "execute_result"
    }
   ],
   "source": [
    "#Examine  whether the strong relationship between value and mortdue are valid or not\n",
    "\n",
    "from scipy.stats import pearsonr \n",
    " \n",
    "# Convert dataframe into series \n",
    "list1 = df['value'] \n",
    "list2 = df['mortdue'] \n",
    "# Apply the pearsonr() \n",
    "pearsonr(list1, list2) \n",
    "\n",
    "#The pearsons correlation coefficient can be used to evaluate relationship between more than two variables.\n",
    "#We can see that two variables are positively correlated and the correaltion is 0.86\n",
    "\n",
    "#H0: correlation =0\n",
    "#HA: correlation is not equal to zero\n",
    "\n"
   ]
  },
  {
   "cell_type": "code",
   "execution_count": 183,
   "metadata": {},
   "outputs": [],
   "source": [
    "import pandas as pd\n",
    "import numpy as np\n",
    "from sklearn import preprocessing\n",
    "import matplotlib.pyplot as plt \n",
    "plt.rc(\"font\", size=14)\n",
    "from sklearn.linear_model import LogisticRegression\n",
    "from sklearn.model_selection import train_test_split\n",
    "import seaborn as sns\n",
    "sns.set(style=\"white\")\n",
    "sns.set(style=\"whitegrid\", color_codes=True)"
   ]
  },
  {
   "cell_type": "code",
   "execution_count": 184,
   "metadata": {},
   "outputs": [
    {
     "name": "stdout",
     "output_type": "stream",
     "text": [
      "['bad', 'loan', 'mortdue', 'value', 'reason', 'job', 'yoj', 'derog', 'delinq', 'clage', 'ninq', 'clno', 'debtinc']\n"
     ]
    }
   ],
   "source": [
    "print(list(df.columns))\n",
    "missing_values = [\"n/a\", \"na\", \"--\", \"nan\"]\n",
    "df = pd.read_csv(\"df.csv\", na_values = missing_values)\n",
    "df.dropna(inplace=True)\n",
    "      "
   ]
  },
  {
   "cell_type": "code",
   "execution_count": 185,
   "metadata": {},
   "outputs": [
    {
     "data": {
      "text/plain": [
       "bad        0\n",
       "loan       0\n",
       "mortdue    0\n",
       "value      0\n",
       "reason     0\n",
       "job        0\n",
       "yoj        0\n",
       "derog      0\n",
       "delinq     0\n",
       "clage      0\n",
       "ninq       0\n",
       "clno       0\n",
       "debtinc    0\n",
       "dtype: int64"
      ]
     },
     "execution_count": 185,
     "metadata": {},
     "output_type": "execute_result"
    }
   ],
   "source": [
    "df.dropna()\n",
    "df.isnull().sum()"
   ]
  },
  {
   "cell_type": "code",
   "execution_count": 186,
   "metadata": {},
   "outputs": [
    {
     "data": {
      "text/plain": [
       "array(['DebtCon', 'HomeImp'], dtype=object)"
      ]
     },
     "execution_count": 186,
     "metadata": {},
     "output_type": "execute_result"
    }
   ],
   "source": [
    "df['reason'].unique()\n"
   ]
  },
  {
   "cell_type": "code",
   "execution_count": 187,
   "metadata": {},
   "outputs": [
    {
     "data": {
      "text/plain": [
       "array(['Mgr', 'Office', 'Other', 'ProfEx', 'Sales', 'Self'], dtype=object)"
      ]
     },
     "execution_count": 187,
     "metadata": {},
     "output_type": "execute_result"
    }
   ],
   "source": [
    "df['job'].unique()"
   ]
  },
  {
   "cell_type": "code",
   "execution_count": 188,
   "metadata": {},
   "outputs": [],
   "source": [
    "#Create dummy variables\n",
    "df = pd.get_dummies(df, columns=['job'])\n"
   ]
  },
  {
   "cell_type": "code",
   "execution_count": 189,
   "metadata": {},
   "outputs": [],
   "source": [
    "df = pd.get_dummies(df, columns=['reason'])"
   ]
  },
  {
   "cell_type": "code",
   "execution_count": 190,
   "metadata": {
    "scrolled": true
   },
   "outputs": [
    {
     "name": "stdout",
     "output_type": "stream",
     "text": [
      "<class 'pandas.core.frame.DataFrame'>\n",
      "Int64Index: 2018 entries, 153 to 3549\n",
      "Data columns (total 19 columns):\n",
      " #   Column          Non-Null Count  Dtype  \n",
      "---  ------          --------------  -----  \n",
      " 0   bad             2018 non-null   int64  \n",
      " 1   loan            2018 non-null   int64  \n",
      " 2   mortdue         2018 non-null   float64\n",
      " 3   value           2018 non-null   float64\n",
      " 4   yoj             2018 non-null   float64\n",
      " 5   derog           2018 non-null   float64\n",
      " 6   delinq          2018 non-null   float64\n",
      " 7   clage           2018 non-null   float64\n",
      " 8   ninq            2018 non-null   float64\n",
      " 9   clno            2018 non-null   float64\n",
      " 10  debtinc         2018 non-null   float64\n",
      " 11  job_Mgr         2018 non-null   uint8  \n",
      " 12  job_Office      2018 non-null   uint8  \n",
      " 13  job_Other       2018 non-null   uint8  \n",
      " 14  job_ProfEx      2018 non-null   uint8  \n",
      " 15  job_Sales       2018 non-null   uint8  \n",
      " 16  job_Self        2018 non-null   uint8  \n",
      " 17  reason_DebtCon  2018 non-null   uint8  \n",
      " 18  reason_HomeImp  2018 non-null   uint8  \n",
      "dtypes: float64(9), int64(2), uint8(8)\n",
      "memory usage: 205.0 KB\n"
     ]
    }
   ],
   "source": [
    "df.info()"
   ]
  },
  {
   "cell_type": "markdown",
   "metadata": {},
   "source": [
    "# LOGISTIC REGRESSION\n"
   ]
  },
  {
   "cell_type": "code",
   "execution_count": 208,
   "metadata": {},
   "outputs": [],
   "source": [
    "#logistic regression\n",
    "df['bad'] = df.bad.astype('category')\n",
    "y=df[\"bad\"]\n",
    "X=df.drop([\"bad\"], axis=1)\n",
    "from sklearn.model_selection import train_test_split,cross_val_score,cross_val_predict\n",
    "X_train,X_test,y_train,y_test=train_test_split(X,y,test_size=0.20,random_state=42)"
   ]
  },
  {
   "cell_type": "code",
   "execution_count": 296,
   "metadata": {},
   "outputs": [
    {
     "name": "stdout",
     "output_type": "stream",
     "text": [
      "Optimization terminated successfully.\n",
      "         Current function value: 0.230402\n",
      "         Iterations 8\n",
      "                                 Results: Logit\n",
      "================================================================================\n",
      "Model:                   Logit                 Pseudo R-squared:      0.230     \n",
      "Dependent Variable:      bad                   AIC:                   777.7377  \n",
      "Date:                    2020-08-06 15:40      BIC:                   869.3078  \n",
      "No. Observations:        1614                  Log-Likelihood:        -371.87   \n",
      "Df Model:                16                    LL-Null:               -483.05   \n",
      "Df Residuals:            1597                  LLR p-value:           2.3083e-38\n",
      "Converged:               1.0000                Scale:                 1.0000    \n",
      "No. Iterations:          8.0000                                                 \n",
      "--------------------------------------------------------------------------------\n",
      "                Coef.     Std.Err.      z    P>|z|      [0.025         0.975]   \n",
      "--------------------------------------------------------------------------------\n",
      "loan           -0.0000        0.0000 -1.8713 0.0613        -0.0000        0.0000\n",
      "mortdue        -0.0000        0.0000 -0.5037 0.6144        -0.0000        0.0000\n",
      "value           0.0000        0.0000  1.1289 0.2589        -0.0000        0.0000\n",
      "yoj            -0.0102        0.0143 -0.7128 0.4760        -0.0383        0.0179\n",
      "derog           0.5376        0.1570  3.4241 0.0006         0.2299        0.8453\n",
      "delinq          0.8023        0.1069  7.5038 0.0000         0.5927        1.0118\n",
      "clage          -0.0041        0.0015 -2.7351 0.0062        -0.0071       -0.0012\n",
      "ninq            0.1087        0.0521  2.0861 0.0370         0.0066        0.2108\n",
      "clno           -0.0246        0.0120 -2.0545 0.0399        -0.0481       -0.0011\n",
      "debtinc         0.1119        0.0155  7.2029 0.0000         0.0815        0.1424\n",
      "job_Mgr        -1.4742 26627072.7518 -0.0000 1.0000 -52188105.0815 52188102.1331\n",
      "job_Office     -1.9775 26627072.7518 -0.0000 1.0000 -52188105.5849 52188101.6298\n",
      "job_Other      -1.5230 26627072.7518 -0.0000 1.0000 -52188105.1304 52188102.0843\n",
      "job_ProfEx     -1.5306 26627072.7518 -0.0000 1.0000 -52188105.1379 52188102.0768\n",
      "job_Sales      -0.9668 26627072.7518 -0.0000 1.0000 -52188104.5741 52188102.6406\n",
      "job_Self       -0.6804 26627072.7518 -0.0000 1.0000 -52188104.2877 52188102.9270\n",
      "reason_DebtCon -3.9964 26627072.7518 -0.0000 1.0000 -52188107.6037 52188099.6110\n",
      "reason_HomeImp -4.1561 26627072.7518 -0.0000 1.0000 -52188107.7634 52188099.4512\n",
      "================================================================================\n",
      "\n"
     ]
    }
   ],
   "source": [
    "#scikit-learn\n",
    "from sklearn.feature_selection import RFE\n",
    "from sklearn.linear_model import LogisticRegression\n",
    "import statsmodels.api as sm\n",
    "\n",
    "logit_model=sm.Logit(y_train,X_train)\n",
    "result=logit_model.fit()\n",
    "print(result.summary2())"
   ]
  },
  {
   "cell_type": "code",
   "execution_count": 210,
   "metadata": {
    "scrolled": true
   },
   "outputs": [
    {
     "data": {
      "text/plain": [
       "loan              0.061304\n",
       "mortdue           0.614440\n",
       "value             0.258946\n",
       "yoj               0.475965\n",
       "job_Mgr           1.000000\n",
       "job_Office        1.000000\n",
       "job_Other         1.000000\n",
       "job_ProfEx        1.000000\n",
       "job_Sales         1.000000\n",
       "job_Self          1.000000\n",
       "reason_DebtCon    1.000000\n",
       "reason_HomeImp    1.000000\n",
       "dtype: float64"
      ]
     },
     "execution_count": 210,
     "metadata": {},
     "output_type": "execute_result"
    }
   ],
   "source": [
    "pvalues=result.pvalues\n",
    "remove=pvalues[pvalues>0.05]\n",
    "remove"
   ]
  },
  {
   "cell_type": "code",
   "execution_count": 211,
   "metadata": {},
   "outputs": [],
   "source": [
    "X_train2=X_train.drop(remove.index,axis=1)\n"
   ]
  },
  {
   "cell_type": "code",
   "execution_count": 212,
   "metadata": {},
   "outputs": [],
   "source": [
    "X_test2=X_test.drop(remove.index,axis=1)"
   ]
  },
  {
   "cell_type": "code",
   "execution_count": 297,
   "metadata": {},
   "outputs": [
    {
     "name": "stdout",
     "output_type": "stream",
     "text": [
      "Optimization terminated successfully.\n",
      "         Current function value: 0.273828\n",
      "         Iterations 7\n",
      "                         Results: Logit\n",
      "=================================================================\n",
      "Model:              Logit            Pseudo R-squared: 0.085     \n",
      "Dependent Variable: bad              AIC:              895.9182  \n",
      "Date:               2020-08-06 15:40 BIC:              928.2370  \n",
      "No. Observations:   1614             Log-Likelihood:   -441.96   \n",
      "Df Model:           5                LL-Null:          -483.05   \n",
      "Df Residuals:       1608             LLR p-value:      2.9383e-16\n",
      "Converged:          1.0000           Scale:            1.0000    \n",
      "No. Iterations:     7.0000                                       \n",
      "-------------------------------------------------------------------\n",
      "           Coef.    Std.Err.      z      P>|z|     [0.025    0.975]\n",
      "-------------------------------------------------------------------\n",
      "derog      0.5281     0.1344    3.9301   0.0001    0.2648    0.7915\n",
      "delinq     0.7847     0.0949    8.2729   0.0000    0.5988    0.9706\n",
      "clage     -0.0104     0.0014   -7.4817   0.0000   -0.0131   -0.0076\n",
      "ninq       0.0137     0.0478    0.2871   0.7740   -0.0799    0.1074\n",
      "clno      -0.0542     0.0113   -4.7934   0.0000   -0.0764   -0.0321\n",
      "debtinc    0.0031     0.0069    0.4557   0.6486   -0.0104    0.0167\n",
      "=================================================================\n",
      "\n"
     ]
    }
   ],
   "source": [
    "#scikit-learn\n",
    "from sklearn.feature_selection import RFE\n",
    "from sklearn.linear_model import LogisticRegression\n",
    "import statsmodels.api as sm\n",
    "\n",
    "logit_model2=sm.Logit(y_train,X_train2)\n",
    "result2=logit_model2.fit()\n",
    "print(result2.summary2())"
   ]
  },
  {
   "cell_type": "code",
   "execution_count": 302,
   "metadata": {},
   "outputs": [
    {
     "data": {
      "text/plain": [
       "LogisticRegression(C=1.0, class_weight=None, dual=False, fit_intercept=True,\n",
       "                   intercept_scaling=1, l1_ratio=None, max_iter=100,\n",
       "                   multi_class='auto', n_jobs=None, penalty='l2',\n",
       "                   random_state=None, solver='lbfgs', tol=0.0001, verbose=0,\n",
       "                   warm_start=False)"
      ]
     },
     "execution_count": 302,
     "metadata": {},
     "output_type": "execute_result"
    }
   ],
   "source": [
    "from sklearn.linear_model import LogisticRegression\n",
    "from sklearn import metrics\n",
    "logreg = LogisticRegression()\n",
    "logreg.fit(X_train2, y_train)\n"
   ]
  },
  {
   "cell_type": "code",
   "execution_count": 304,
   "metadata": {},
   "outputs": [
    {
     "name": "stdout",
     "output_type": "stream",
     "text": [
      "Accuracy of logistic regression classifier on train set: 0.93\n"
     ]
    },
    {
     "data": {
      "text/plain": [
       "(1614,)"
      ]
     },
     "execution_count": 304,
     "metadata": {},
     "output_type": "execute_result"
    }
   ],
   "source": [
    "y_pred_train = logreg.predict(X_train2)\n",
    "print('Accuracy of logistic regression classifier on train set: {:.2f}'.format(logreg.score(X_train2, y_train)))\n",
    "y_pred_train.shape"
   ]
  },
  {
   "cell_type": "code",
   "execution_count": 272,
   "metadata": {},
   "outputs": [
    {
     "name": "stdout",
     "output_type": "stream",
     "text": [
      "Accuracy of logistic regression classifier on test set: 0.93\n"
     ]
    },
    {
     "data": {
      "text/plain": [
       "(404,)"
      ]
     },
     "execution_count": 272,
     "metadata": {},
     "output_type": "execute_result"
    }
   ],
   "source": [
    "y_pred = logreg.predict(X_test2)\n",
    "print('Accuracy of logistic regression classifier on test set: {:.2f}'.format(logreg.score(X_test2, y_test)))\n"
   ]
  },
  {
   "cell_type": "code",
   "execution_count": 273,
   "metadata": {},
   "outputs": [
    {
     "name": "stdout",
     "output_type": "stream",
     "text": [
      "[[1465  113]\n",
      " [   6   30]]\n"
     ]
    }
   ],
   "source": [
    "from sklearn.metrics import confusion_matrix\n",
    "confusion_matrix = confusion_matrix(y_pred_train, y_train)\n",
    "print(confusion_matrix)"
   ]
  },
  {
   "cell_type": "code",
   "execution_count": 274,
   "metadata": {},
   "outputs": [
    {
     "name": "stdout",
     "output_type": "stream",
     "text": [
      "[[368  29]\n",
      " [  1   6]]\n"
     ]
    }
   ],
   "source": [
    "from sklearn.metrics import confusion_matrix\n",
    "confusion_matrix = confusion_matrix(y_pred, y_test)\n",
    "print(confusion_matrix)"
   ]
  },
  {
   "cell_type": "code",
   "execution_count": 276,
   "metadata": {},
   "outputs": [
    {
     "name": "stdout",
     "output_type": "stream",
     "text": [
      "              precision    recall  f1-score   support\n",
      "\n",
      "           0       0.93      1.00      0.96      1471\n",
      "           1       0.83      0.21      0.34       143\n",
      "\n",
      "    accuracy                           0.93      1614\n",
      "   macro avg       0.88      0.60      0.65      1614\n",
      "weighted avg       0.92      0.93      0.91      1614\n",
      "\n"
     ]
    }
   ],
   "source": [
    "print(classification_report(y_train, y_pred_train))"
   ]
  },
  {
   "cell_type": "code",
   "execution_count": 288,
   "metadata": {},
   "outputs": [
    {
     "data": {
      "image/png": "[encoded data removed]",
      "text/plain": [
       "<Figure size 432x288 with 1 Axes>"
      ]
     },
     "metadata": {},
     "output_type": "display_data"
    }
   ],
   "source": [
    "#ROC CURVE AND AUC\n",
    "import sklearn.metrics as metrics\n",
    "# calculate the fpr and tpr for all thresholds of the classification\n",
    "probs_train = logreg.predict_proba(X_train2)\n",
    "preds_train = probs_train[:,1]\n",
    "fpr, tpr, threshold = metrics.roc_curve(y_train, preds_train)\n",
    "roc_auc_train = metrics.auc(fpr, tpr)\n",
    "\n",
    "# method I: plt\n",
    "import matplotlib.pyplot as plt\n",
    "plt.title('Receiver Operating Characteristic')\n",
    "plt.plot(fpr, tpr, 'b', label = 'AUC = %0.2f' % roc_auc_train)\n",
    "plt.legend(loc = 'lower right')\n",
    "plt.plot([0, 1], [0, 1],'r--')\n",
    "plt.xlim([0, 1])\n",
    "plt.ylim([0, 1])\n",
    "plt.ylabel('True Positive Rate')\n",
    "plt.xlabel('False Positive Rate')\n",
    "plt.show()"
   ]
  },
  {
   "cell_type": "code",
   "execution_count": 289,
   "metadata": {},
   "outputs": [
    {
     "data": {
      "image/png": "[encoded data removed]",
      "text/plain": [
       "<Figure size 432x288 with 1 Axes>"
      ]
     },
     "metadata": {},
     "output_type": "display_data"
    }
   ],
   "source": [
    "import sklearn.metrics as metrics\n",
    "# calculate the fpr and tpr for all thresholds of the classification\n",
    "probs = logreg.predict_proba(X_test2)\n",
    "preds = probs[:,1]\n",
    "fpr, tpr, threshold = metrics.roc_curve(y_test, preds)\n",
    "roc_auc = metrics.auc(fpr, tpr)\n",
    "\n",
    "# method I: plt\n",
    "import matplotlib.pyplot as plt\n",
    "plt.title('Receiver Operating Characteristic')\n",
    "plt.plot(fpr, tpr, 'b', label = 'AUC = %0.2f' % roc_auc)\n",
    "plt.legend(loc = 'lower right')\n",
    "plt.plot([0, 1], [0, 1],'r--')\n",
    "plt.xlim([0, 1])\n",
    "plt.ylim([0, 1])\n",
    "plt.ylabel('True Positive Rate')\n",
    "plt.xlabel('False Positive Rate')\n",
    "plt.show()\n"
   ]
  },
  {
   "cell_type": "code",
   "execution_count": 295,
   "metadata": {},
   "outputs": [
    {
     "data": {
      "text/plain": [
       "0.9258536585365853"
      ]
     },
     "execution_count": 295,
     "metadata": {},
     "output_type": "execute_result"
    }
   ],
   "source": [
    "cross_val_score(logreg, X_test2, y_test,cv=10).mean()"
   ]
  }
 ],
 "metadata": {
  "kernelspec": {
   "display_name": "Python 3",
   "language": "python",
   "name": "python3"
  },
  "language_info": {
   "codemirror_mode": {
    "name": "ipython",
    "version": 3
   },
   "file_extension": ".py",
   "mimetype": "text/x-python",
   "name": "python",
   "nbconvert_exporter": "python",
   "pygments_lexer": "ipython3",
   "version": "3.7.6"
  }
 },
 "nbformat": 4,
 "nbformat_minor": 4
}
